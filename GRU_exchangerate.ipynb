{
  "cells": [
    {
      "cell_type": "code",
      "execution_count": 1,
      "metadata": {
        "id": "XgExjlye4-7y"
      },
      "outputs": [],
      "source": [
        "import pandas as pd\n",
        "import numpy as np\n",
        "%matplotlib inline\n",
        "import matplotlib.pyplot as plt\n",
        "import sklearn.metrics as metrics\n",
        "from sklearn.preprocessing import StandardScaler\n",
        "from sklearn.metrics import r2_score\n",
        "from keras.models import Sequential\n",
        "import tensorflow as tf\n",
        "from keras.layers import Dense\n",
        "import keras.backend as K\n",
        "from keras.callbacks import EarlyStopping\n",
        "from keras.optimizers import Adam\n",
        "from keras.layers import Dropout"
      ]
    },
    {
      "cell_type": "code",
      "execution_count": 2,
      "metadata": {
        "colab": {
          "base_uri": "https://localhost:8080/",
          "height": 206
        },
        "id": "zEtn256P4-7z",
        "outputId": "45a73d93-8075-4402-e09b-aa58bf189b7d"
      },
      "outputs": [
        {
          "data": {
            "text/html": [
              "<div>\n",
              "<style scoped>\n",
              "    .dataframe tbody tr th:only-of-type {\n",
              "        vertical-align: middle;\n",
              "    }\n",
              "\n",
              "    .dataframe tbody tr th {\n",
              "        vertical-align: top;\n",
              "    }\n",
              "\n",
              "    .dataframe thead th {\n",
              "        text-align: right;\n",
              "    }\n",
              "</style>\n",
              "<table border=\"1\" class=\"dataframe\">\n",
              "  <thead>\n",
              "    <tr style=\"text-align: right;\">\n",
              "      <th></th>\n",
              "      <th>Date</th>\n",
              "      <th>Price</th>\n",
              "      <th>Open</th>\n",
              "      <th>High</th>\n",
              "      <th>Low</th>\n",
              "      <th>Vol.</th>\n",
              "      <th>Change %</th>\n",
              "    </tr>\n",
              "  </thead>\n",
              "  <tbody>\n",
              "    <tr>\n",
              "      <th>0</th>\n",
              "      <td>12/29/2023</td>\n",
              "      <td>90.36</td>\n",
              "      <td>89.36</td>\n",
              "      <td>90.5701</td>\n",
              "      <td>88.8773</td>\n",
              "      <td>NaN</td>\n",
              "      <td>1.12%</td>\n",
              "    </tr>\n",
              "    <tr>\n",
              "      <th>1</th>\n",
              "      <td>12/28/2023</td>\n",
              "      <td>89.36</td>\n",
              "      <td>91.27</td>\n",
              "      <td>91.2700</td>\n",
              "      <td>89.2805</td>\n",
              "      <td>NaN</td>\n",
              "      <td>-2.09%</td>\n",
              "    </tr>\n",
              "    <tr>\n",
              "      <th>2</th>\n",
              "      <td>12/27/2023</td>\n",
              "      <td>91.27</td>\n",
              "      <td>91.66</td>\n",
              "      <td>91.9793</td>\n",
              "      <td>91.2369</td>\n",
              "      <td>NaN</td>\n",
              "      <td>-0.43%</td>\n",
              "    </tr>\n",
              "    <tr>\n",
              "      <th>3</th>\n",
              "      <td>12/26/2023</td>\n",
              "      <td>91.66</td>\n",
              "      <td>91.75</td>\n",
              "      <td>91.9388</td>\n",
              "      <td>91.3750</td>\n",
              "      <td>NaN</td>\n",
              "      <td>-0.10%</td>\n",
              "    </tr>\n",
              "    <tr>\n",
              "      <th>4</th>\n",
              "      <td>12/25/2023</td>\n",
              "      <td>91.75</td>\n",
              "      <td>92.00</td>\n",
              "      <td>92.1875</td>\n",
              "      <td>91.6576</td>\n",
              "      <td>NaN</td>\n",
              "      <td>-0.27%</td>\n",
              "    </tr>\n",
              "  </tbody>\n",
              "</table>\n",
              "</div>"
            ],
            "text/plain": [
              "         Date  Price   Open     High      Low  Vol. Change %\n",
              "0  12/29/2023  90.36  89.36  90.5701  88.8773   NaN    1.12%\n",
              "1  12/28/2023  89.36  91.27  91.2700  89.2805   NaN   -2.09%\n",
              "2  12/27/2023  91.27  91.66  91.9793  91.2369   NaN   -0.43%\n",
              "3  12/26/2023  91.66  91.75  91.9388  91.3750   NaN   -0.10%\n",
              "4  12/25/2023  91.75  92.00  92.1875  91.6576   NaN   -0.27%"
            ]
          },
          "execution_count": 2,
          "metadata": {},
          "output_type": "execute_result"
        }
      ],
      "source": [
        "#exchange_data = pd.read_csv('USD_VND Historical Data.csv')\n",
        "#exchange_data = pd.read_csv('USD_EUR Historical Data.csv')\n",
        "exchange_data = pd.read_csv('USD_RUB Historical Data.csv')\n",
        "exchange_data.head()"
      ]
    },
    {
      "cell_type": "code",
      "execution_count": 3,
      "metadata": {
        "id": "TBxguQlS4-70"
      },
      "outputs": [],
      "source": [
        "exchange_data[\"Date\"] = pd.to_datetime(exchange_data[\"Date\"])\n",
        "ind_exchange_data = exchange_data.set_index([\"Date\"], drop=True)"
      ]
    },
    {
      "cell_type": "code",
      "execution_count": 4,
      "metadata": {
        "colab": {
          "base_uri": "https://localhost:8080/",
          "height": 238
        },
        "id": "21XcsXw84-70",
        "outputId": "1beb7348-6ec7-464f-9c42-67280f6cd2be"
      },
      "outputs": [
        {
          "data": {
            "text/html": [
              "<div>\n",
              "<style scoped>\n",
              "    .dataframe tbody tr th:only-of-type {\n",
              "        vertical-align: middle;\n",
              "    }\n",
              "\n",
              "    .dataframe tbody tr th {\n",
              "        vertical-align: top;\n",
              "    }\n",
              "\n",
              "    .dataframe thead th {\n",
              "        text-align: right;\n",
              "    }\n",
              "</style>\n",
              "<table border=\"1\" class=\"dataframe\">\n",
              "  <thead>\n",
              "    <tr style=\"text-align: right;\">\n",
              "      <th></th>\n",
              "      <th>Price</th>\n",
              "      <th>Open</th>\n",
              "      <th>High</th>\n",
              "      <th>Low</th>\n",
              "      <th>Vol.</th>\n",
              "      <th>Change %</th>\n",
              "    </tr>\n",
              "    <tr>\n",
              "      <th>Date</th>\n",
              "      <th></th>\n",
              "      <th></th>\n",
              "      <th></th>\n",
              "      <th></th>\n",
              "      <th></th>\n",
              "      <th></th>\n",
              "    </tr>\n",
              "  </thead>\n",
              "  <tbody>\n",
              "    <tr>\n",
              "      <th>2023-12-29</th>\n",
              "      <td>90.36</td>\n",
              "      <td>89.36</td>\n",
              "      <td>90.5701</td>\n",
              "      <td>88.8773</td>\n",
              "      <td>NaN</td>\n",
              "      <td>1.12%</td>\n",
              "    </tr>\n",
              "    <tr>\n",
              "      <th>2023-12-28</th>\n",
              "      <td>89.36</td>\n",
              "      <td>91.27</td>\n",
              "      <td>91.2700</td>\n",
              "      <td>89.2805</td>\n",
              "      <td>NaN</td>\n",
              "      <td>-2.09%</td>\n",
              "    </tr>\n",
              "    <tr>\n",
              "      <th>2023-12-27</th>\n",
              "      <td>91.27</td>\n",
              "      <td>91.66</td>\n",
              "      <td>91.9793</td>\n",
              "      <td>91.2369</td>\n",
              "      <td>NaN</td>\n",
              "      <td>-0.43%</td>\n",
              "    </tr>\n",
              "    <tr>\n",
              "      <th>2023-12-26</th>\n",
              "      <td>91.66</td>\n",
              "      <td>91.75</td>\n",
              "      <td>91.9388</td>\n",
              "      <td>91.3750</td>\n",
              "      <td>NaN</td>\n",
              "      <td>-0.10%</td>\n",
              "    </tr>\n",
              "    <tr>\n",
              "      <th>2023-12-25</th>\n",
              "      <td>91.75</td>\n",
              "      <td>92.00</td>\n",
              "      <td>92.1875</td>\n",
              "      <td>91.6576</td>\n",
              "      <td>NaN</td>\n",
              "      <td>-0.27%</td>\n",
              "    </tr>\n",
              "  </tbody>\n",
              "</table>\n",
              "</div>"
            ],
            "text/plain": [
              "            Price   Open     High      Low  Vol. Change %\n",
              "Date                                                     \n",
              "2023-12-29  90.36  89.36  90.5701  88.8773   NaN    1.12%\n",
              "2023-12-28  89.36  91.27  91.2700  89.2805   NaN   -2.09%\n",
              "2023-12-27  91.27  91.66  91.9793  91.2369   NaN   -0.43%\n",
              "2023-12-26  91.66  91.75  91.9388  91.3750   NaN   -0.10%\n",
              "2023-12-25  91.75  92.00  92.1875  91.6576   NaN   -0.27%"
            ]
          },
          "execution_count": 4,
          "metadata": {},
          "output_type": "execute_result"
        }
      ],
      "source": [
        "#checking first few records of the dataset\n",
        "ind_exchange_data.head()"
      ]
    },
    {
      "cell_type": "code",
      "execution_count": 5,
      "metadata": {
        "colab": {
          "base_uri": "https://localhost:8080/",
          "height": 238
        },
        "id": "hO8Kt3dv4-71",
        "outputId": "a134d673-24a4-4309-d078-3391f73e2d0a"
      },
      "outputs": [
        {
          "data": {
            "text/html": [
              "<div>\n",
              "<style scoped>\n",
              "    .dataframe tbody tr th:only-of-type {\n",
              "        vertical-align: middle;\n",
              "    }\n",
              "\n",
              "    .dataframe tbody tr th {\n",
              "        vertical-align: top;\n",
              "    }\n",
              "\n",
              "    .dataframe thead th {\n",
              "        text-align: right;\n",
              "    }\n",
              "</style>\n",
              "<table border=\"1\" class=\"dataframe\">\n",
              "  <thead>\n",
              "    <tr style=\"text-align: right;\">\n",
              "      <th></th>\n",
              "      <th>Change %</th>\n",
              "      <th>High</th>\n",
              "      <th>Low</th>\n",
              "      <th>Open</th>\n",
              "      <th>Price</th>\n",
              "      <th>Vol.</th>\n",
              "    </tr>\n",
              "    <tr>\n",
              "      <th>Date</th>\n",
              "      <th></th>\n",
              "      <th></th>\n",
              "      <th></th>\n",
              "      <th></th>\n",
              "      <th></th>\n",
              "      <th></th>\n",
              "    </tr>\n",
              "  </thead>\n",
              "  <tbody>\n",
              "    <tr>\n",
              "      <th>2010-01-01</th>\n",
              "      <td>0.00%</td>\n",
              "      <td>30.3135</td>\n",
              "      <td>30.1000</td>\n",
              "      <td>30.1000</td>\n",
              "      <td>30.1000</td>\n",
              "      <td>NaN</td>\n",
              "    </tr>\n",
              "    <tr>\n",
              "      <th>2010-01-04</th>\n",
              "      <td>0.72%</td>\n",
              "      <td>30.5450</td>\n",
              "      <td>30.1000</td>\n",
              "      <td>30.1000</td>\n",
              "      <td>30.3175</td>\n",
              "      <td>NaN</td>\n",
              "    </tr>\n",
              "    <tr>\n",
              "      <th>2010-01-05</th>\n",
              "      <td>-0.72%</td>\n",
              "      <td>30.3175</td>\n",
              "      <td>29.9060</td>\n",
              "      <td>30.3175</td>\n",
              "      <td>30.1000</td>\n",
              "      <td>NaN</td>\n",
              "    </tr>\n",
              "    <tr>\n",
              "      <th>2010-01-06</th>\n",
              "      <td>0.00%</td>\n",
              "      <td>30.1000</td>\n",
              "      <td>29.8565</td>\n",
              "      <td>30.1000</td>\n",
              "      <td>30.1000</td>\n",
              "      <td>NaN</td>\n",
              "    </tr>\n",
              "    <tr>\n",
              "      <th>2010-01-07</th>\n",
              "      <td>0.00%</td>\n",
              "      <td>30.1000</td>\n",
              "      <td>29.8250</td>\n",
              "      <td>30.1000</td>\n",
              "      <td>30.1000</td>\n",
              "      <td>NaN</td>\n",
              "    </tr>\n",
              "  </tbody>\n",
              "</table>\n",
              "</div>"
            ],
            "text/plain": [
              "           Change %     High      Low     Open    Price  Vol.\n",
              "Date                                                         \n",
              "2010-01-01    0.00%  30.3135  30.1000  30.1000  30.1000   NaN\n",
              "2010-01-04    0.72%  30.5450  30.1000  30.1000  30.3175   NaN\n",
              "2010-01-05   -0.72%  30.3175  29.9060  30.3175  30.1000   NaN\n",
              "2010-01-06    0.00%  30.1000  29.8565  30.1000  30.1000   NaN\n",
              "2010-01-07    0.00%  30.1000  29.8250  30.1000  30.1000   NaN"
            ]
          },
          "execution_count": 5,
          "metadata": {},
          "output_type": "execute_result"
        }
      ],
      "source": [
        "# sorting the dataset in ascending order of date\n",
        "data_frame = ind_exchange_data.sort_index(axis=1 ,ascending=True)\n",
        "data_frame = data_frame.iloc[::-1]\n",
        "data_frame.head()"
      ]
    },
    {
      "cell_type": "code",
      "execution_count": 6,
      "metadata": {
        "colab": {
          "base_uri": "https://localhost:8080/",
          "height": 793
        },
        "id": "6CVUeqZr4-71",
        "outputId": "005b2345-84e0-40e0-cd94-9c036ee8d839"
      },
      "outputs": [
        {
          "data": {
            "text/plain": [
              "<Axes: xlabel='Date'>"
            ]
          },
          "execution_count": 6,
          "metadata": {},
          "output_type": "execute_result"
        },
        {
          "data": {
            "image/png": "[encoded data removed]",
            "text/plain": [
              "<Figure size 1500x1000 with 1 Axes>"
            ]
          },
          "metadata": {},
          "output_type": "display_data"
        }
      ],
      "source": [
        "df = data_frame[[\"Price\"]]\n",
        "#visualize the pattern of prices over the years\n",
        "df.plot(kind='line',figsize=(15,10))"
      ]
    },
    {
      "cell_type": "markdown",
      "metadata": {
        "id": "m3JiO2CH4-71"
      },
      "source": [
        " dataset in terms of years and further check 100% of the dataset lies within which interval"
      ]
    },
    {
      "cell_type": "code",
      "execution_count": 7,
      "metadata": {
        "colab": {
          "base_uri": "https://localhost:8080/"
        },
        "id": "bwEPCVPP4-71",
        "outputId": "8a49e37c-0e0f-4573-db34-b0b35829a42e"
      },
      "outputs": [
        {
          "name": "stdout",
          "output_type": "stream",
          "text": [
            "Total data: 14 years\n",
            "100 percent data = 2010 to 2024\n"
          ]
        }
      ],
      "source": [
        "diff = df.index.values[-1] - df.index.values[0]\n",
        "days = diff.astype('timedelta64[D]')\n",
        "days = days / np.timedelta64(1, 'D')\n",
        "years = int(days/365)\n",
        "print(\"Total data: %d years\"%years)\n",
        "print(\"100 percent data = 2010 to %d\"%(2010 + int(1*years)))"
      ]
    },
    {
      "cell_type": "code",
      "execution_count": 8,
      "metadata": {
        "colab": {
          "base_uri": "https://localhost:8080/",
          "height": 300
        },
        "id": "x2EzO4I54-72",
        "outputId": "959c9303-9575-4a51-ba43-8ec50f22a98a"
      },
      "outputs": [
        {
          "data": {
            "text/html": [
              "<div>\n",
              "<style scoped>\n",
              "    .dataframe tbody tr th:only-of-type {\n",
              "        vertical-align: middle;\n",
              "    }\n",
              "\n",
              "    .dataframe tbody tr th {\n",
              "        vertical-align: top;\n",
              "    }\n",
              "\n",
              "    .dataframe thead th {\n",
              "        text-align: right;\n",
              "    }\n",
              "</style>\n",
              "<table border=\"1\" class=\"dataframe\">\n",
              "  <thead>\n",
              "    <tr style=\"text-align: right;\">\n",
              "      <th></th>\n",
              "      <th>Price</th>\n",
              "    </tr>\n",
              "  </thead>\n",
              "  <tbody>\n",
              "    <tr>\n",
              "      <th>count</th>\n",
              "      <td>3593.000000</td>\n",
              "    </tr>\n",
              "    <tr>\n",
              "      <th>mean</th>\n",
              "      <td>55.239082</td>\n",
              "    </tr>\n",
              "    <tr>\n",
              "      <th>std</th>\n",
              "      <td>19.392387</td>\n",
              "    </tr>\n",
              "    <tr>\n",
              "      <th>min</th>\n",
              "      <td>27.341500</td>\n",
              "    </tr>\n",
              "    <tr>\n",
              "      <th>25%</th>\n",
              "      <td>32.377000</td>\n",
              "    </tr>\n",
              "    <tr>\n",
              "      <th>50%</th>\n",
              "      <td>60.600000</td>\n",
              "    </tr>\n",
              "    <tr>\n",
              "      <th>75%</th>\n",
              "      <td>68.657700</td>\n",
              "    </tr>\n",
              "    <tr>\n",
              "      <th>max</th>\n",
              "      <td>143.000000</td>\n",
              "    </tr>\n",
              "  </tbody>\n",
              "</table>\n",
              "</div>"
            ],
            "text/plain": [
              "             Price\n",
              "count  3593.000000\n",
              "mean     55.239082\n",
              "std      19.392387\n",
              "min      27.341500\n",
              "25%      32.377000\n",
              "50%      60.600000\n",
              "75%      68.657700\n",
              "max     143.000000"
            ]
          },
          "execution_count": 8,
          "metadata": {},
          "output_type": "execute_result"
        }
      ],
      "source": [
        "# Summary Statistics\n",
        "df.describe()"
      ]
    },
    {
      "cell_type": "code",
      "execution_count": 9,
      "metadata": {
        "colab": {
          "base_uri": "https://localhost:8080/",
          "height": 657
        },
        "id": "4CdPF8UY4-72",
        "outputId": "ef5166d8-f2d0-4cbd-eed2-2b9211738a28"
      },
      "outputs": [
        {
          "data": {
            "text/plain": [
              "<matplotlib.legend.Legend at 0x1dd2a3bb5d0>"
            ]
          },
          "execution_count": 9,
          "metadata": {},
          "output_type": "execute_result"
        },
        {
          "data": {
            "image/png": "[encoded data removed]",
            "text/plain": [
              "<Figure size 1200x800 with 1 Axes>"
            ]
          },
          "metadata": {},
          "output_type": "display_data"
        }
      ],
      "source": [
        "# Train Test Split\n",
        "split_date = pd.Timestamp('01-01-2018')\n",
        "\n",
        "train = df.loc[:split_date]\n",
        "test = df.loc[split_date:]\n",
        "\n",
        "ax = train.plot(kind='line',figsize=(12,8))\n",
        "test.plot(ax=ax,kind='line',figsize=(12,8))\n",
        "plt.legend(['train', 'test'])"
      ]
    },
    {
      "cell_type": "markdown",
      "metadata": {
        "id": "A_vVxg1j4-73"
      },
      "source": [
        "### Data Normalization"
      ]
    },
    {
      "cell_type": "code",
      "execution_count": 10,
      "metadata": {
        "id": "12vBI25S4-73"
      },
      "outputs": [],
      "source": [
        "from sklearn.preprocessing import StandardScaler"
      ]
    },
    {
      "cell_type": "code",
      "execution_count": 11,
      "metadata": {
        "id": "mn3lRr_A4-73"
      },
      "outputs": [],
      "source": [
        "sc = StandardScaler()\n",
        "train_sc = sc.fit_transform(train)\n",
        "test_sc = sc.transform(test)"
      ]
    },
    {
      "cell_type": "code",
      "execution_count": 12,
      "metadata": {
        "id": "a1Nzzldc4-73"
      },
      "outputs": [],
      "source": [
        "X_train = train_sc[:-1]\n",
        "y_train = train_sc[1:]\n",
        "\n",
        "X_test = test_sc[:-1]\n",
        "y_test = test_sc[1:]"
      ]
    },
    {
      "cell_type": "code",
      "execution_count": 13,
      "metadata": {
        "colab": {
          "base_uri": "https://localhost:8080/"
        },
        "id": "PAhb-gpj4-73",
        "outputId": "7e06f21e-3d71-42f8-a008-cdf282013987"
      },
      "outputs": [
        {
          "data": {
            "text/plain": [
              "array([[-0.86585799],\n",
              "       [-0.85165347],\n",
              "       [-0.86585799],\n",
              "       ...,\n",
              "       [ 0.93161693],\n",
              "       [ 0.93941472],\n",
              "       [ 0.92458325]])"
            ]
          },
          "execution_count": 13,
          "metadata": {},
          "output_type": "execute_result"
        }
      ],
      "source": [
        "X_train"
      ]
    },
    {
      "cell_type": "markdown",
      "metadata": {
        "id": "sk8VS3924-76"
      },
      "source": [
        "### GRU"
      ]
    },
    {
      "cell_type": "code",
      "execution_count": 14,
      "metadata": {
        "colab": {
          "base_uri": "https://localhost:8080/"
        },
        "id": "RKQ0ZmvE4-76",
        "outputId": "907181a2-81ce-4c02-e0ce-40d379deff2c"
      },
      "outputs": [
        {
          "name": "stdout",
          "output_type": "stream",
          "text": [
            "WARNING:tensorflow:From c:\\Users\\Admin\\AppData\\Local\\Programs\\Python\\Python311\\Lib\\site-packages\\keras\\src\\backend\\common\\global_state.py:73: The name tf.reset_default_graph is deprecated. Please use tf.compat.v1.reset_default_graph instead.\n",
            "\n"
          ]
        },
        {
          "name": "stderr",
          "output_type": "stream",
          "text": [
            "c:\\Users\\Admin\\AppData\\Local\\Programs\\Python\\Python311\\Lib\\site-packages\\keras\\src\\layers\\rnn\\rnn.py:205: UserWarning: Do not pass an `input_shape`/`input_dim` argument to a layer. When using Sequential models, prefer using an `Input(shape)` object as the first layer in the model instead.\n",
            "  super().__init__(**kwargs)\n"
          ]
        },
        {
          "data": {
            "text/html": [
              "<pre style=\"white-space:pre;overflow-x:auto;line-height:normal;font-family:Menlo,'DejaVu Sans Mono',consolas,'Courier New',monospace\"><span style=\"font-weight: bold\">Model: \"sequential\"</span>\n",
              "</pre>\n"
            ],
            "text/plain": [
              "\u001b[1mModel: \"sequential\"\u001b[0m\n"
            ]
          },
          "metadata": {},
          "output_type": "display_data"
        },
        {
          "data": {
            "text/html": [
              "<pre style=\"white-space:pre;overflow-x:auto;line-height:normal;font-family:Menlo,'DejaVu Sans Mono',consolas,'Courier New',monospace\">┏━━━━━━━━━━━━━━━━━━━━━━━━━━━━━━━━━┳━━━━━━━━━━━━━━━━━━━━━━━━┳━━━━━━━━━━━━━━━┓\n",
              "┃<span style=\"font-weight: bold\"> Layer (type)                    </span>┃<span style=\"font-weight: bold\"> Output Shape           </span>┃<span style=\"font-weight: bold\">       Param # </span>┃\n",
              "┡━━━━━━━━━━━━━━━━━━━━━━━━━━━━━━━━━╇━━━━━━━━━━━━━━━━━━━━━━━━╇━━━━━━━━━━━━━━━┩\n",
              "│ gru (<span style=\"color: #0087ff; text-decoration-color: #0087ff\">GRU</span>)                       │ (<span style=\"color: #00d7ff; text-decoration-color: #00d7ff\">None</span>, <span style=\"color: #00af00; text-decoration-color: #00af00\">7</span>)              │           <span style=\"color: #00af00; text-decoration-color: #00af00\">210</span> │\n",
              "├─────────────────────────────────┼────────────────────────┼───────────────┤\n",
              "│ dense (<span style=\"color: #0087ff; text-decoration-color: #0087ff\">Dense</span>)                   │ (<span style=\"color: #00d7ff; text-decoration-color: #00d7ff\">None</span>, <span style=\"color: #00af00; text-decoration-color: #00af00\">1</span>)              │             <span style=\"color: #00af00; text-decoration-color: #00af00\">8</span> │\n",
              "└─────────────────────────────────┴────────────────────────┴───────────────┘\n",
              "</pre>\n"
            ],
            "text/plain": [
              "┏━━━━━━━━━━━━━━━━━━━━━━━━━━━━━━━━━┳━━━━━━━━━━━━━━━━━━━━━━━━┳━━━━━━━━━━━━━━━┓\n",
              "┃\u001b[1m \u001b[0m\u001b[1mLayer (type)                   \u001b[0m\u001b[1m \u001b[0m┃\u001b[1m \u001b[0m\u001b[1mOutput Shape          \u001b[0m\u001b[1m \u001b[0m┃\u001b[1m \u001b[0m\u001b[1m      Param #\u001b[0m\u001b[1m \u001b[0m┃\n",
              "┡━━━━━━━━━━━━━━━━━━━━━━━━━━━━━━━━━╇━━━━━━━━━━━━━━━━━━━━━━━━╇━━━━━━━━━━━━━━━┩\n",
              "│ gru (\u001b[38;5;33mGRU\u001b[0m)                       │ (\u001b[38;5;45mNone\u001b[0m, \u001b[38;5;34m7\u001b[0m)              │           \u001b[38;5;34m210\u001b[0m │\n",
              "├─────────────────────────────────┼────────────────────────┼───────────────┤\n",
              "│ dense (\u001b[38;5;33mDense\u001b[0m)                   │ (\u001b[38;5;45mNone\u001b[0m, \u001b[38;5;34m1\u001b[0m)              │             \u001b[38;5;34m8\u001b[0m │\n",
              "└─────────────────────────────────┴────────────────────────┴───────────────┘\n"
            ]
          },
          "metadata": {},
          "output_type": "display_data"
        },
        {
          "data": {
            "text/html": [
              "<pre style=\"white-space:pre;overflow-x:auto;line-height:normal;font-family:Menlo,'DejaVu Sans Mono',consolas,'Courier New',monospace\"><span style=\"font-weight: bold\"> Total params: </span><span style=\"color: #00af00; text-decoration-color: #00af00\">218</span> (872.00 B)\n",
              "</pre>\n"
            ],
            "text/plain": [
              "\u001b[1m Total params: \u001b[0m\u001b[38;5;34m218\u001b[0m (872.00 B)\n"
            ]
          },
          "metadata": {},
          "output_type": "display_data"
        },
        {
          "data": {
            "text/html": [
              "<pre style=\"white-space:pre;overflow-x:auto;line-height:normal;font-family:Menlo,'DejaVu Sans Mono',consolas,'Courier New',monospace\"><span style=\"font-weight: bold\"> Trainable params: </span><span style=\"color: #00af00; text-decoration-color: #00af00\">218</span> (872.00 B)\n",
              "</pre>\n"
            ],
            "text/plain": [
              "\u001b[1m Trainable params: \u001b[0m\u001b[38;5;34m218\u001b[0m (872.00 B)\n"
            ]
          },
          "metadata": {},
          "output_type": "display_data"
        },
        {
          "data": {
            "text/html": [
              "<pre style=\"white-space:pre;overflow-x:auto;line-height:normal;font-family:Menlo,'DejaVu Sans Mono',consolas,'Courier New',monospace\"><span style=\"font-weight: bold\"> Non-trainable params: </span><span style=\"color: #00af00; text-decoration-color: #00af00\">0</span> (0.00 B)\n",
              "</pre>\n"
            ],
            "text/plain": [
              "\u001b[1m Non-trainable params: \u001b[0m\u001b[38;5;34m0\u001b[0m (0.00 B)\n"
            ]
          },
          "metadata": {},
          "output_type": "display_data"
        }
      ],
      "source": [
        "from keras.layers import GRU\n",
        "K.clear_session()\n",
        "model_gru = Sequential()\n",
        "model_gru.add(GRU(7, input_shape=(1, X_train.shape[1]), activation='linear', kernel_initializer='lecun_uniform', return_sequences=False))\n",
        "model_gru.add(Dense(1))\n",
        "model_gru.summary()"
      ]
    },
    {
      "cell_type": "code",
      "execution_count": 15,
      "metadata": {
        "colab": {
          "base_uri": "https://localhost:8080/"
        },
        "id": "5fMHQrPB4-76",
        "outputId": "07eb9e15-1364-4e3b-bcd9-f035652675c8"
      },
      "outputs": [
        {
          "name": "stdout",
          "output_type": "stream",
          "text": [
            "Epoch 1/100\n",
            "\u001b[1m65/65\u001b[0m \u001b[32m━━━━━━━━━━━━━━━━━━━━\u001b[0m\u001b[37m\u001b[0m \u001b[1m2s\u001b[0m 2ms/step - loss: 0.0324 - rmse: 0.1765\n",
            "Epoch 2/100\n",
            "\u001b[1m65/65\u001b[0m \u001b[32m━━━━━━━━━━━━━━━━━━━━\u001b[0m\u001b[37m\u001b[0m \u001b[1m0s\u001b[0m 2ms/step - loss: 0.0023 - rmse: 0.0459 \n",
            "Epoch 3/100\n",
            "\u001b[1m65/65\u001b[0m \u001b[32m━━━━━━━━━━━━━━━━━━━━\u001b[0m\u001b[37m\u001b[0m \u001b[1m0s\u001b[0m 2ms/step - loss: 0.0037 - rmse: 0.0600\n",
            "Epoch 4/100\n",
            "\u001b[1m65/65\u001b[0m \u001b[32m━━━━━━━━━━━━━━━━━━━━\u001b[0m\u001b[37m\u001b[0m \u001b[1m0s\u001b[0m 3ms/step - loss: 0.0033 - rmse: 0.0571\n",
            "Epoch 5/100\n",
            "\u001b[1m65/65\u001b[0m \u001b[32m━━━━━━━━━━━━━━━━━━━━\u001b[0m\u001b[37m\u001b[0m \u001b[1m0s\u001b[0m 1ms/step - loss: 0.0033 - rmse: 0.0567\n",
            "Epoch 6/100\n",
            "\u001b[1m65/65\u001b[0m \u001b[32m━━━━━━━━━━━━━━━━━━━━\u001b[0m\u001b[37m\u001b[0m \u001b[1m0s\u001b[0m 1ms/step - loss: 0.0030 - rmse: 0.0548\n",
            "Epoch 7/100\n",
            "\u001b[1m65/65\u001b[0m \u001b[32m━━━━━━━━━━━━━━━━━━━━\u001b[0m\u001b[37m\u001b[0m \u001b[1m0s\u001b[0m 1ms/step - loss: 0.0028 - rmse: 0.0529\n",
            "Epoch 8/100\n",
            "\u001b[1m65/65\u001b[0m \u001b[32m━━━━━━━━━━━━━━━━━━━━\u001b[0m\u001b[37m\u001b[0m \u001b[1m0s\u001b[0m 1ms/step - loss: 0.0026 - rmse: 0.0510\n",
            "Epoch 9/100\n",
            "\u001b[1m65/65\u001b[0m \u001b[32m━━━━━━━━━━━━━━━━━━━━\u001b[0m\u001b[37m\u001b[0m \u001b[1m0s\u001b[0m 1ms/step - loss: 0.0025 - rmse: 0.0491\n",
            "Epoch 10/100\n",
            "\u001b[1m65/65\u001b[0m \u001b[32m━━━━━━━━━━━━━━━━━━━━\u001b[0m\u001b[37m\u001b[0m \u001b[1m0s\u001b[0m 1ms/step - loss: 0.0023 - rmse: 0.0474\n",
            "Epoch 11/100\n",
            "\u001b[1m65/65\u001b[0m \u001b[32m━━━━━━━━━━━━━━━━━━━━\u001b[0m\u001b[37m\u001b[0m \u001b[1m0s\u001b[0m 1ms/step - loss: 0.0021 - rmse: 0.0458\n",
            "Epoch 12/100\n",
            "\u001b[1m65/65\u001b[0m \u001b[32m━━━━━━━━━━━━━━━━━━━━\u001b[0m\u001b[37m\u001b[0m \u001b[1m0s\u001b[0m 1ms/step - loss: 0.0020 - rmse: 0.0445\n",
            "Epoch 13/100\n",
            "\u001b[1m65/65\u001b[0m \u001b[32m━━━━━━━━━━━━━━━━━━━━\u001b[0m\u001b[37m\u001b[0m \u001b[1m0s\u001b[0m 1ms/step - loss: 0.0019 - rmse: 0.0434\n",
            "Epoch 14/100\n",
            "\u001b[1m65/65\u001b[0m \u001b[32m━━━━━━━━━━━━━━━━━━━━\u001b[0m\u001b[37m\u001b[0m \u001b[1m0s\u001b[0m 1ms/step - loss: 0.0018 - rmse: 0.0424\n",
            "Epoch 15/100\n",
            "\u001b[1m65/65\u001b[0m \u001b[32m━━━━━━━━━━━━━━━━━━━━\u001b[0m\u001b[37m\u001b[0m \u001b[1m0s\u001b[0m 1ms/step - loss: 0.0018 - rmse: 0.0416\n",
            "Epoch 16/100\n",
            "\u001b[1m65/65\u001b[0m \u001b[32m━━━━━━━━━━━━━━━━━━━━\u001b[0m\u001b[37m\u001b[0m \u001b[1m0s\u001b[0m 1ms/step - loss: 0.0017 - rmse: 0.0408\n",
            "Epoch 17/100\n",
            "\u001b[1m65/65\u001b[0m \u001b[32m━━━━━━━━━━━━━━━━━━━━\u001b[0m\u001b[37m\u001b[0m \u001b[1m0s\u001b[0m 1ms/step - loss: 0.0017 - rmse: 0.0402\n",
            "Epoch 18/100\n",
            "\u001b[1m65/65\u001b[0m \u001b[32m━━━━━━━━━━━━━━━━━━━━\u001b[0m\u001b[37m\u001b[0m \u001b[1m0s\u001b[0m 1ms/step - loss: 0.0016 - rmse: 0.0396\n",
            "Epoch 19/100\n",
            "\u001b[1m65/65\u001b[0m \u001b[32m━━━━━━━━━━━━━━━━━━━━\u001b[0m\u001b[37m\u001b[0m \u001b[1m0s\u001b[0m 1ms/step - loss: 0.0016 - rmse: 0.0391\n",
            "Epoch 20/100\n",
            "\u001b[1m65/65\u001b[0m \u001b[32m━━━━━━━━━━━━━━━━━━━━\u001b[0m\u001b[37m\u001b[0m \u001b[1m0s\u001b[0m 1ms/step - loss: 0.0015 - rmse: 0.0385\n",
            "Epoch 21/100\n",
            "\u001b[1m65/65\u001b[0m \u001b[32m━━━━━━━━━━━━━━━━━━━━\u001b[0m\u001b[37m\u001b[0m \u001b[1m0s\u001b[0m 1ms/step - loss: 0.0015 - rmse: 0.0380\n",
            "Epoch 22/100\n",
            "\u001b[1m65/65\u001b[0m \u001b[32m━━━━━━━━━━━━━━━━━━━━\u001b[0m\u001b[37m\u001b[0m \u001b[1m0s\u001b[0m 1ms/step - loss: 0.0015 - rmse: 0.0374\n",
            "Epoch 23/100\n",
            "\u001b[1m65/65\u001b[0m \u001b[32m━━━━━━━━━━━━━━━━━━━━\u001b[0m\u001b[37m\u001b[0m \u001b[1m0s\u001b[0m 1ms/step - loss: 0.0014 - rmse: 0.0368\n",
            "Epoch 24/100\n",
            "\u001b[1m65/65\u001b[0m \u001b[32m━━━━━━━━━━━━━━━━━━━━\u001b[0m\u001b[37m\u001b[0m \u001b[1m0s\u001b[0m 1ms/step - loss: 0.0014 - rmse: 0.0362\n",
            "Epoch 25/100\n",
            "\u001b[1m65/65\u001b[0m \u001b[32m━━━━━━━━━━━━━━━━━━━━\u001b[0m\u001b[37m\u001b[0m \u001b[1m0s\u001b[0m 1ms/step - loss: 0.0013 - rmse: 0.0356\n",
            "Epoch 26/100\n",
            "\u001b[1m65/65\u001b[0m \u001b[32m━━━━━━━━━━━━━━━━━━━━\u001b[0m\u001b[37m\u001b[0m \u001b[1m0s\u001b[0m 2ms/step - loss: 0.0013 - rmse: 0.0350\n",
            "Epoch 27/100\n",
            "\u001b[1m65/65\u001b[0m \u001b[32m━━━━━━━━━━━━━━━━━━━━\u001b[0m\u001b[37m\u001b[0m \u001b[1m0s\u001b[0m 1ms/step - loss: 0.0012 - rmse: 0.0343    \n",
            "Epoch 28/100\n",
            "\u001b[1m65/65\u001b[0m \u001b[32m━━━━━━━━━━━━━━━━━━━━\u001b[0m\u001b[37m\u001b[0m \u001b[1m0s\u001b[0m 1ms/step - loss: 0.0012 - rmse: 0.0336    \n",
            "Epoch 29/100\n",
            "\u001b[1m65/65\u001b[0m \u001b[32m━━━━━━━━━━━━━━━━━━━━\u001b[0m\u001b[37m\u001b[0m \u001b[1m0s\u001b[0m 1ms/step - loss: 0.0012 - rmse: 0.0329    \n",
            "Epoch 30/100\n",
            "\u001b[1m65/65\u001b[0m \u001b[32m━━━━━━━━━━━━━━━━━━━━\u001b[0m\u001b[37m\u001b[0m \u001b[1m0s\u001b[0m 2ms/step - loss: 0.0011 - rmse: 0.0322    \n",
            "Epoch 31/100\n",
            "\u001b[1m65/65\u001b[0m \u001b[32m━━━━━━━━━━━━━━━━━━━━\u001b[0m\u001b[37m\u001b[0m \u001b[1m0s\u001b[0m 1ms/step - loss: 0.0011 - rmse: 0.0315    \n",
            "Epoch 32/100\n",
            "\u001b[1m65/65\u001b[0m \u001b[32m━━━━━━━━━━━━━━━━━━━━\u001b[0m\u001b[37m\u001b[0m \u001b[1m0s\u001b[0m 2ms/step - loss: 0.0010 - rmse: 0.0307    \n",
            "Epoch 33/100\n",
            "\u001b[1m65/65\u001b[0m \u001b[32m━━━━━━━━━━━━━━━━━━━━\u001b[0m\u001b[37m\u001b[0m \u001b[1m0s\u001b[0m 2ms/step - loss: 9.8242e-04 - rmse: 0.0300\n",
            "Epoch 34/100\n",
            "\u001b[1m65/65\u001b[0m \u001b[32m━━━━━━━━━━━━━━━━━━━━\u001b[0m\u001b[37m\u001b[0m \u001b[1m0s\u001b[0m 2ms/step - loss: 9.4397e-04 - rmse: 0.0293\n",
            "Epoch 35/100\n",
            "\u001b[1m65/65\u001b[0m \u001b[32m━━━━━━━━━━━━━━━━━━━━\u001b[0m\u001b[37m\u001b[0m \u001b[1m0s\u001b[0m 1ms/step - loss: 9.0790e-04 - rmse: 0.0286\n",
            "Epoch 36/100\n",
            "\u001b[1m65/65\u001b[0m \u001b[32m━━━━━━━━━━━━━━━━━━━━\u001b[0m\u001b[37m\u001b[0m \u001b[1m0s\u001b[0m 1ms/step - loss: 8.7451e-04 - rmse: 0.0279\n",
            "Epoch 37/100\n",
            "\u001b[1m65/65\u001b[0m \u001b[32m━━━━━━━━━━━━━━━━━━━━\u001b[0m\u001b[37m\u001b[0m \u001b[1m0s\u001b[0m 1ms/step - loss: 8.4406e-04 - rmse: 0.0273\n",
            "Epoch 38/100\n",
            "\u001b[1m65/65\u001b[0m \u001b[32m━━━━━━━━━━━━━━━━━━━━\u001b[0m\u001b[37m\u001b[0m \u001b[1m0s\u001b[0m 2ms/step - loss: 8.1673e-04 - rmse: 0.0267\n",
            "Epoch 39/100\n",
            "\u001b[1m65/65\u001b[0m \u001b[32m━━━━━━━━━━━━━━━━━━━━\u001b[0m\u001b[37m\u001b[0m \u001b[1m0s\u001b[0m 2ms/step - loss: 7.9266e-04 - rmse: 0.0261\n",
            "Epoch 40/100\n",
            "\u001b[1m65/65\u001b[0m \u001b[32m━━━━━━━━━━━━━━━━━━━━\u001b[0m\u001b[37m\u001b[0m \u001b[1m0s\u001b[0m 2ms/step - loss: 7.7191e-04 - rmse: 0.0256\n",
            "Epoch 41/100\n",
            "\u001b[1m65/65\u001b[0m \u001b[32m━━━━━━━━━━━━━━━━━━━━\u001b[0m\u001b[37m\u001b[0m \u001b[1m0s\u001b[0m 1ms/step - loss: 7.5445e-04 - rmse: 0.0251\n",
            "Epoch 42/100\n",
            "\u001b[1m65/65\u001b[0m \u001b[32m━━━━━━━━━━━━━━━━━━━━\u001b[0m\u001b[37m\u001b[0m \u001b[1m0s\u001b[0m 1ms/step - loss: 7.4021e-04 - rmse: 0.0247\n",
            "Epoch 43/100\n",
            "\u001b[1m65/65\u001b[0m \u001b[32m━━━━━━━━━━━━━━━━━━━━\u001b[0m\u001b[37m\u001b[0m \u001b[1m0s\u001b[0m 1ms/step - loss: 7.2907e-04 - rmse: 0.0243\n",
            "Epoch 44/100\n",
            "\u001b[1m65/65\u001b[0m \u001b[32m━━━━━━━━━━━━━━━━━━━━\u001b[0m\u001b[37m\u001b[0m \u001b[1m0s\u001b[0m 2ms/step - loss: 7.2086e-04 - rmse: 0.0240\n",
            "Epoch 45/100\n",
            "\u001b[1m65/65\u001b[0m \u001b[32m━━━━━━━━━━━━━━━━━━━━\u001b[0m\u001b[37m\u001b[0m \u001b[1m0s\u001b[0m 1ms/step - loss: 7.1537e-04 - rmse: 0.0238\n",
            "Epoch 46/100\n",
            "\u001b[1m65/65\u001b[0m \u001b[32m━━━━━━━━━━━━━━━━━━━━\u001b[0m\u001b[37m\u001b[0m \u001b[1m0s\u001b[0m 1ms/step - loss: 7.1238e-04 - rmse: 0.0236\n",
            "Epoch 47/100\n",
            "\u001b[1m65/65\u001b[0m \u001b[32m━━━━━━━━━━━━━━━━━━━━\u001b[0m\u001b[37m\u001b[0m \u001b[1m0s\u001b[0m 2ms/step - loss: 7.1166e-04 - rmse: 0.0235\n",
            "Epoch 48/100\n",
            "\u001b[1m65/65\u001b[0m \u001b[32m━━━━━━━━━━━━━━━━━━━━\u001b[0m\u001b[37m\u001b[0m \u001b[1m0s\u001b[0m 1ms/step - loss: 7.1295e-04 - rmse: 0.0234\n",
            "Epoch 49/100\n",
            "\u001b[1m65/65\u001b[0m \u001b[32m━━━━━━━━━━━━━━━━━━━━\u001b[0m\u001b[37m\u001b[0m \u001b[1m0s\u001b[0m 1ms/step - loss: 7.1596e-04 - rmse: 0.0234\n",
            "Epoch 50/100\n",
            "\u001b[1m65/65\u001b[0m \u001b[32m━━━━━━━━━━━━━━━━━━━━\u001b[0m\u001b[37m\u001b[0m \u001b[1m0s\u001b[0m 1ms/step - loss: 7.2038e-04 - rmse: 0.0233\n",
            "Epoch 51/100\n",
            "\u001b[1m65/65\u001b[0m \u001b[32m━━━━━━━━━━━━━━━━━━━━\u001b[0m\u001b[37m\u001b[0m \u001b[1m0s\u001b[0m 1ms/step - loss: 7.2585e-04 - rmse: 0.0234\n",
            "Epoch 51: early stopping\n",
            "The model has successfully trained\n"
          ]
        }
      ],
      "source": [
        "X_tr_t = X_train.reshape(X_train.shape[0], 1, X_train.shape[1])\n",
        "X_tst_t = X_test.reshape(X_test.shape[0], 1, X_test.shape[1])\n",
        "model_gru.compile(loss=tf.keras.metrics.mean_squared_error, metrics=[tf.keras.metrics.RootMeanSquaredError(name='rmse')], optimizer='adam')\n",
        "early_stop = EarlyStopping(monitor='loss', patience=10, verbose=1)\n",
        "history_model_gru = model_gru.fit(X_tr_t, y_train, epochs=100, batch_size=32, verbose=1, shuffle=False, callbacks=[early_stop])\n",
        "print(\"The model has successfully trained\")\n"
      ]
    },
    {
      "cell_type": "code",
      "execution_count": 16,
      "metadata": {
        "colab": {
          "base_uri": "https://localhost:8080/"
        },
        "id": "OqknpX8c5Vzt",
        "outputId": "1fc2e891-cab4-4db3-98bf-c4949f2291e4"
      },
      "outputs": [
        {
          "name": "stderr",
          "output_type": "stream",
          "text": [
            "WARNING:absl:You are saving your model as an HDF5 file via `model.save()` or `keras.saving.save_model(model)`. This file format is considered legacy. We recommend using instead the native Keras format, e.g. `model.save('my_model.keras')` or `keras.saving.save_model(model, 'my_model.keras')`. \n"
          ]
        },
        {
          "name": "stdout",
          "output_type": "stream",
          "text": [
            "Saving the model as gru_RUB.h5\n"
          ]
        }
      ],
      "source": [
        "#model_gru.save('gru.h5')\n",
        "#print(\"Saving the model as gru.h5\")\n",
        "\n",
        "#model_gru.save('gru_EUR.h5')\n",
        "#print(\"Saving the model as gru_EUR.h5\")\n",
        "\n",
        "model_gru.save('gru_RUB.h5')\n",
        "print(\"Saving the model as gru_RUB.h5\")\n"
      ]
    },
    {
      "cell_type": "markdown",
      "metadata": {
        "id": "hZXDSeTr4-8C"
      },
      "source": [
        "### GRU Prediction"
      ]
    },
    {
      "cell_type": "code",
      "execution_count": 17,
      "metadata": {
        "colab": {
          "base_uri": "https://localhost:8080/"
        },
        "id": "HV5G8K7X4-8C",
        "outputId": "7778f911-4533-4783-d528-71f713f9bccd"
      },
      "outputs": [
        {
          "name": "stdout",
          "output_type": "stream",
          "text": [
            "\u001b[1m48/48\u001b[0m \u001b[32m━━━━━━━━━━━━━━━━━━━━\u001b[0m\u001b[37m\u001b[0m \u001b[1m0s\u001b[0m 5ms/step\n",
            "\u001b[1m65/65\u001b[0m \u001b[32m━━━━━━━━━━━━━━━━━━━━\u001b[0m\u001b[37m\u001b[0m \u001b[1m0s\u001b[0m 934us/step\n",
            "The R2 score on the Train set is:\t0.998\n",
            "The  MAE on the Train set is:\t0.022\n",
            "The  RMSE on the Train set is:\t0.039\n",
            "The Adjusted R2 score on the Train set is:\t0.998\n",
            "\n",
            "The R2 score on the Test set is:\t0.978\n",
            "The Adjusted R2 score on the Test set is:\t0.978\n",
            "The  MAE on the Test set is:\t0.052\n",
            "The  RMSE on the Test set is:\t0.104\n"
          ]
        }
      ],
      "source": [
        "y_pred_test_gru = model_gru.predict(X_tst_t)\n",
        "y_train_pred_gru = model_gru.predict(X_tr_t)\n",
        "\n",
        "train_mse = metrics.mean_squared_error(y_train, y_train_pred_gru)\n",
        "rmse_train = np.sqrt(train_mse)\n",
        "\n",
        "test_mse = metrics.mean_squared_error(y_test, y_pred_test_gru)\n",
        "rmse_test = np.sqrt(test_mse)\n",
        "\n",
        "def adj_r2_score(r2, n, k):\n",
        "  return 1-((1-r2)*((n-1)/(n-k-1)))\n",
        "print(\"The R2 score on the Train set is:\\t{:0.3f}\".format(r2_score(y_train, y_train_pred_gru)))\n",
        "print(\"The  MAE on the Train set is:\\t{:0.3f}\".format(metrics.mean_absolute_error(y_train, y_train_pred_gru)))\n",
        "\n",
        "print(\"The  RMSE on the Train set is:\\t{:0.3f}\".format(rmse_train))\n",
        "r2_train = r2_score(y_train, y_train_pred_gru)\n",
        "print(\"The Adjusted R2 score on the Train set is:\\t{:0.3f}\\n\".format(adj_r2_score(r2_train, X_train.shape[0], X_train.shape[1])))\n",
        "print(\"The R2 score on the Test set is:\\t{:0.3f}\".format(r2_score(y_test, y_pred_test_gru)))\n",
        "r2_test = r2_score(y_test, y_pred_test_gru)\n",
        "print(\"The Adjusted R2 score on the Test set is:\\t{:0.3f}\".format(adj_r2_score(r2_test, X_test.shape[0], X_test.shape[1])))\n",
        "print(\"The  MAE on the Test set is:\\t{:0.3f}\".format(metrics.mean_absolute_error(y_test, y_pred_test_gru)))\n",
        "print(\"The  RMSE on the Test set is:\\t{:0.3f}\".format(rmse_test))"
      ]
    },
    {
      "cell_type": "markdown",
      "metadata": {
        "id": "vY68g-3f4-8C"
      },
      "source": [
        "### GRU Prediction Plot"
      ]
    },
    {
      "cell_type": "code",
      "execution_count": 18,
      "metadata": {
        "colab": {
          "base_uri": "https://localhost:8080/",
          "height": 718
        },
        "id": "9AvBJGVo4-8C",
        "outputId": "f048863c-1653-4610-ed5e-08b4a06988ea"
      },
      "outputs": [
        {
          "data": {
            "image/png": "[encoded data removed]",
            "text/plain": [
              "<Figure size 1200x800 with 1 Axes>"
            ]
          },
          "metadata": {},
          "output_type": "display_data"
        }
      ],
      "source": [
        "plt.figure(figsize=(12,8))\n",
        "plt.plot(y_test, label='True')\n",
        "plt.plot(y_pred_test_gru, label='GRU')\n",
        "plt.title(\"GRU's_Prediction\")\n",
        "plt.xlabel('Observation')\n",
        "plt.ylabel('INR_Scaled')\n",
        "plt.legend()\n",
        "plt.show()"
      ]
    },
    {
      "cell_type": "code",
      "execution_count": 19,
      "metadata": {
        "colab": {
          "base_uri": "https://localhost:8080/"
        },
        "id": "YnPVhE1S4-8C",
        "outputId": "a9a2fcd2-18ea-4fc5-df8a-684788cf7b52"
      },
      "outputs": [
        {
          "data": {
            "text/plain": [
              "array([[57.289825],\n",
              "       [56.93472 ],\n",
              "       [57.041187],\n",
              "       ...,\n",
              "       [93.13604 ],\n",
              "       [92.68741 ],\n",
              "       [90.49835 ]], dtype=float32)"
            ]
          },
          "execution_count": 19,
          "metadata": {},
          "output_type": "execute_result"
        }
      ],
      "source": [
        "inv_yhat = sc.inverse_transform(y_pred_test_gru)\n",
        "\n",
        "inv_yhat"
      ]
    },
    {
      "cell_type": "code",
      "execution_count": 20,
      "metadata": {
        "colab": {
          "base_uri": "https://localhost:8080/"
        },
        "id": "0QG1lpRC4-8D",
        "outputId": "7ca4b067-024d-46eb-97ee-6dbe9e446f2e"
      },
      "outputs": [
        {
          "data": {
            "text/plain": [
              "array([[56.8765],\n",
              "       [56.9903],\n",
              "       [56.993 ],\n",
              "       ...,\n",
              "       [91.27  ],\n",
              "       [89.36  ],\n",
              "       [90.36  ]])"
            ]
          },
          "execution_count": 20,
          "metadata": {},
          "output_type": "execute_result"
        }
      ],
      "source": [
        "inv_ytest = sc.inverse_transform(y_test)\n",
        "\n",
        "inv_ytest"
      ]
    },
    {
      "cell_type": "code",
      "execution_count": 21,
      "metadata": {
        "colab": {
          "base_uri": "https://localhost:8080/"
        },
        "id": "tx1M-NVy4-8E",
        "outputId": "35e54137-40b7-4dc6-feda-dc9b4367bc97"
      },
      "outputs": [
        {
          "name": "stdout",
          "output_type": "stream",
          "text": [
            "The R2 score on the Test set is:\t0.978\n",
            "The Adjusted R2 score on the Test set is:\t0.978\n",
            "The  MAE on the Test set is:\t0.797\n",
            "The  RMSE on the Test set is:\t1.598\n"
          ]
        }
      ],
      "source": [
        "test_mse = metrics.mean_squared_error(inv_ytest, inv_yhat)\n",
        "rmse_test = np.sqrt(test_mse)\n",
        "\n",
        "\n",
        "print(\"The R2 score on the Test set is:\\t{:0.3f}\".format(r2_score(inv_ytest, inv_yhat)))\n",
        "r2_test = r2_score(inv_ytest, inv_yhat)\n",
        "print(\"The Adjusted R2 score on the Test set is:\\t{:0.3f}\".format(adj_r2_score(r2_test, X_test.shape[0], X_test.shape[1])))\n",
        "print(\"The  MAE on the Test set is:\\t{:0.3f}\".format(metrics.mean_absolute_error(inv_ytest, inv_yhat)))\n",
        "print(\"The  RMSE on the Test set is:\\t{:0.3f}\".format(rmse_test))"
      ]
    },
    {
      "cell_type": "code",
      "execution_count": 22,
      "metadata": {
        "colab": {
          "base_uri": "https://localhost:8080/",
          "height": 238
        },
        "id": "yaUqAl1i4-8F",
        "outputId": "81d47dc3-48f4-4ca0-f5c4-0d6cfd198c25"
      },
      "outputs": [
        {
          "data": {
            "text/html": [
              "<div>\n",
              "<style scoped>\n",
              "    .dataframe tbody tr th:only-of-type {\n",
              "        vertical-align: middle;\n",
              "    }\n",
              "\n",
              "    .dataframe tbody tr th {\n",
              "        vertical-align: top;\n",
              "    }\n",
              "\n",
              "    .dataframe thead th {\n",
              "        text-align: right;\n",
              "    }\n",
              "</style>\n",
              "<table border=\"1\" class=\"dataframe\">\n",
              "  <thead>\n",
              "    <tr style=\"text-align: right;\">\n",
              "      <th></th>\n",
              "      <th>Price</th>\n",
              "    </tr>\n",
              "    <tr>\n",
              "      <th>Date</th>\n",
              "      <th></th>\n",
              "    </tr>\n",
              "  </thead>\n",
              "  <tbody>\n",
              "    <tr>\n",
              "      <th>2018-01-03</th>\n",
              "      <td>57.2561</td>\n",
              "    </tr>\n",
              "    <tr>\n",
              "      <th>2018-01-04</th>\n",
              "      <td>56.8765</td>\n",
              "    </tr>\n",
              "    <tr>\n",
              "      <th>2018-01-05</th>\n",
              "      <td>56.9903</td>\n",
              "    </tr>\n",
              "    <tr>\n",
              "      <th>2018-01-09</th>\n",
              "      <td>56.9930</td>\n",
              "    </tr>\n",
              "    <tr>\n",
              "      <th>2018-01-10</th>\n",
              "      <td>57.0222</td>\n",
              "    </tr>\n",
              "  </tbody>\n",
              "</table>\n",
              "</div>"
            ],
            "text/plain": [
              "              Price\n",
              "Date               \n",
              "2018-01-03  57.2561\n",
              "2018-01-04  56.8765\n",
              "2018-01-05  56.9903\n",
              "2018-01-09  56.9930\n",
              "2018-01-10  57.0222"
            ]
          },
          "execution_count": 22,
          "metadata": {},
          "output_type": "execute_result"
        }
      ],
      "source": [
        "test.head()"
      ]
    },
    {
      "cell_type": "code",
      "execution_count": 23,
      "metadata": {
        "id": "Z1RaU2A34-8F"
      },
      "outputs": [],
      "source": [
        "col1 = pd.DataFrame(inv_ytest, columns=['Price'])\n",
        "col2 = pd.DataFrame(inv_yhat, columns=['GRU_prediction'])\n",
        "col3 = pd.DataFrame(history_model_gru.history['rmse'], columns=['RMSE'])\n",
        "results = pd.concat([col1, col2, col3], axis=1)\n",
        "#results.to_csv('Prediction_MONEY_INR_GRU.xlsx')"
      ]
    },
    {
      "cell_type": "code",
      "execution_count": 24,
      "metadata": {
        "colab": {
          "base_uri": "https://localhost:8080/",
          "height": 206
        },
        "id": "-1YjO0384-8F",
        "outputId": "ae3c465a-2312-4fd8-abb8-da815fca0bee"
      },
      "outputs": [
        {
          "data": {
            "text/html": [
              "<div>\n",
              "<style scoped>\n",
              "    .dataframe tbody tr th:only-of-type {\n",
              "        vertical-align: middle;\n",
              "    }\n",
              "\n",
              "    .dataframe tbody tr th {\n",
              "        vertical-align: top;\n",
              "    }\n",
              "\n",
              "    .dataframe thead th {\n",
              "        text-align: right;\n",
              "    }\n",
              "</style>\n",
              "<table border=\"1\" class=\"dataframe\">\n",
              "  <thead>\n",
              "    <tr style=\"text-align: right;\">\n",
              "      <th></th>\n",
              "      <th>Price</th>\n",
              "      <th>GRU_prediction</th>\n",
              "      <th>RMSE</th>\n",
              "    </tr>\n",
              "  </thead>\n",
              "  <tbody>\n",
              "    <tr>\n",
              "      <th>0</th>\n",
              "      <td>56.8765</td>\n",
              "      <td>57.289825</td>\n",
              "      <td>0.151657</td>\n",
              "    </tr>\n",
              "    <tr>\n",
              "      <th>1</th>\n",
              "      <td>56.9903</td>\n",
              "      <td>56.934719</td>\n",
              "      <td>0.062183</td>\n",
              "    </tr>\n",
              "    <tr>\n",
              "      <th>2</th>\n",
              "      <td>56.9930</td>\n",
              "      <td>57.041187</td>\n",
              "      <td>0.065090</td>\n",
              "    </tr>\n",
              "    <tr>\n",
              "      <th>3</th>\n",
              "      <td>57.0222</td>\n",
              "      <td>57.043713</td>\n",
              "      <td>0.061591</td>\n",
              "    </tr>\n",
              "    <tr>\n",
              "      <th>4</th>\n",
              "      <td>56.4285</td>\n",
              "      <td>57.071030</td>\n",
              "      <td>0.059540</td>\n",
              "    </tr>\n",
              "  </tbody>\n",
              "</table>\n",
              "</div>"
            ],
            "text/plain": [
              "     Price  GRU_prediction      RMSE\n",
              "0  56.8765       57.289825  0.151657\n",
              "1  56.9903       56.934719  0.062183\n",
              "2  56.9930       57.041187  0.065090\n",
              "3  57.0222       57.043713  0.061591\n",
              "4  56.4285       57.071030  0.059540"
            ]
          },
          "execution_count": 24,
          "metadata": {},
          "output_type": "execute_result"
        }
      ],
      "source": [
        "results.head()"
      ]
    },
    {
      "cell_type": "code",
      "execution_count": 25,
      "metadata": {
        "colab": {
          "base_uri": "https://localhost:8080/",
          "height": 206
        },
        "id": "s-JH7ao24-8F",
        "outputId": "9c9a2a0c-5db9-41ba-9811-a92de764247d"
      },
      "outputs": [
        {
          "data": {
            "text/html": [
              "<div>\n",
              "<style scoped>\n",
              "    .dataframe tbody tr th:only-of-type {\n",
              "        vertical-align: middle;\n",
              "    }\n",
              "\n",
              "    .dataframe tbody tr th {\n",
              "        vertical-align: top;\n",
              "    }\n",
              "\n",
              "    .dataframe thead th {\n",
              "        text-align: right;\n",
              "    }\n",
              "</style>\n",
              "<table border=\"1\" class=\"dataframe\">\n",
              "  <thead>\n",
              "    <tr style=\"text-align: right;\">\n",
              "      <th></th>\n",
              "      <th>Date</th>\n",
              "      <th>Price</th>\n",
              "    </tr>\n",
              "  </thead>\n",
              "  <tbody>\n",
              "    <tr>\n",
              "      <th>0</th>\n",
              "      <td>2018-01-03</td>\n",
              "      <td>57.2561</td>\n",
              "    </tr>\n",
              "    <tr>\n",
              "      <th>1</th>\n",
              "      <td>2018-01-04</td>\n",
              "      <td>56.8765</td>\n",
              "    </tr>\n",
              "    <tr>\n",
              "      <th>2</th>\n",
              "      <td>2018-01-05</td>\n",
              "      <td>56.9903</td>\n",
              "    </tr>\n",
              "    <tr>\n",
              "      <th>3</th>\n",
              "      <td>2018-01-09</td>\n",
              "      <td>56.9930</td>\n",
              "    </tr>\n",
              "    <tr>\n",
              "      <th>4</th>\n",
              "      <td>2018-01-10</td>\n",
              "      <td>57.0222</td>\n",
              "    </tr>\n",
              "  </tbody>\n",
              "</table>\n",
              "</div>"
            ],
            "text/plain": [
              "        Date    Price\n",
              "0 2018-01-03  57.2561\n",
              "1 2018-01-04  56.8765\n",
              "2 2018-01-05  56.9903\n",
              "3 2018-01-09  56.9930\n",
              "4 2018-01-10  57.0222"
            ]
          },
          "execution_count": 25,
          "metadata": {},
          "output_type": "execute_result"
        }
      ],
      "source": [
        "test.reset_index(level=0, inplace=True)\n",
        "test.head()"
      ]
    },
    {
      "cell_type": "code",
      "execution_count": 26,
      "metadata": {
        "id": "btYsl6MP4-8F"
      },
      "outputs": [],
      "source": [
        "dfinal = test.merge(results, how='inner', left_on='Price', right_on='Price')"
      ]
    },
    {
      "cell_type": "code",
      "execution_count": 27,
      "metadata": {
        "colab": {
          "base_uri": "https://localhost:8080/",
          "height": 206
        },
        "id": "yMs_GJVM4-8F",
        "outputId": "87f9e66a-a379-4e10-a801-d21aa2c012a3"
      },
      "outputs": [
        {
          "data": {
            "text/html": [
              "<div>\n",
              "<style scoped>\n",
              "    .dataframe tbody tr th:only-of-type {\n",
              "        vertical-align: middle;\n",
              "    }\n",
              "\n",
              "    .dataframe tbody tr th {\n",
              "        vertical-align: top;\n",
              "    }\n",
              "\n",
              "    .dataframe thead th {\n",
              "        text-align: right;\n",
              "    }\n",
              "</style>\n",
              "<table border=\"1\" class=\"dataframe\">\n",
              "  <thead>\n",
              "    <tr style=\"text-align: right;\">\n",
              "      <th></th>\n",
              "      <th>Date</th>\n",
              "      <th>Price</th>\n",
              "      <th>GRU_prediction</th>\n",
              "      <th>RMSE</th>\n",
              "    </tr>\n",
              "  </thead>\n",
              "  <tbody>\n",
              "    <tr>\n",
              "      <th>0</th>\n",
              "      <td>2018-01-04</td>\n",
              "      <td>56.8765</td>\n",
              "      <td>57.289825</td>\n",
              "      <td>0.151657</td>\n",
              "    </tr>\n",
              "    <tr>\n",
              "      <th>2</th>\n",
              "      <td>2018-01-05</td>\n",
              "      <td>56.9903</td>\n",
              "      <td>56.934719</td>\n",
              "      <td>0.062183</td>\n",
              "    </tr>\n",
              "    <tr>\n",
              "      <th>3</th>\n",
              "      <td>2018-01-09</td>\n",
              "      <td>56.9930</td>\n",
              "      <td>57.041187</td>\n",
              "      <td>0.065090</td>\n",
              "    </tr>\n",
              "    <tr>\n",
              "      <th>4</th>\n",
              "      <td>2018-01-10</td>\n",
              "      <td>57.0222</td>\n",
              "      <td>57.043713</td>\n",
              "      <td>0.061591</td>\n",
              "    </tr>\n",
              "    <tr>\n",
              "      <th>5</th>\n",
              "      <td>2018-01-11</td>\n",
              "      <td>56.4285</td>\n",
              "      <td>57.071030</td>\n",
              "      <td>0.059540</td>\n",
              "    </tr>\n",
              "  </tbody>\n",
              "</table>\n",
              "</div>"
            ],
            "text/plain": [
              "        Date    Price  GRU_prediction      RMSE\n",
              "0 2018-01-04  56.8765       57.289825  0.151657\n",
              "2 2018-01-05  56.9903       56.934719  0.062183\n",
              "3 2018-01-09  56.9930       57.041187  0.065090\n",
              "4 2018-01-10  57.0222       57.043713  0.061591\n",
              "5 2018-01-11  56.4285       57.071030  0.059540"
            ]
          },
          "execution_count": 27,
          "metadata": {},
          "output_type": "execute_result"
        }
      ],
      "source": [
        "dfinal.drop_duplicates(subset=\"Date\",inplace=True)\n",
        "\n",
        "\n",
        "dfinal.head()"
      ]
    },
    {
      "cell_type": "code",
      "execution_count": 28,
      "metadata": {
        "colab": {
          "base_uri": "https://localhost:8080/",
          "height": 676
        },
        "id": "uO_K3BzZ4-8G",
        "outputId": "36efb52f-9349-4003-995c-ed840324e172"
      },
      "outputs": [
        {
          "data": {
            "image/png": "[encoded data removed]",
            "text/plain": [
              "<Figure size 1200x800 with 1 Axes>"
            ]
          },
          "metadata": {},
          "output_type": "display_data"
        }
      ],
      "source": [
        "plt.figure(figsize=(12,8))\n",
        "price_date = dfinal['Date']\n",
        "price_true = dfinal['Price']\n",
        "price_pred = dfinal['GRU_prediction']\n",
        "plt.plot_date(price_date, price_true,label='Actual Price')\n",
        "plt.plot_date(price_date, price_pred,label='Predicted Price')\n",
        "plt.legend()\n",
        "plt.show()"
      ]
    },
    {
      "cell_type": "code",
      "execution_count": 29,
      "metadata": {
        "colab": {
          "base_uri": "https://localhost:8080/",
          "height": 300
        },
        "id": "QUwQCrnk4-8G",
        "outputId": "ac51c951-d971-40d1-b05a-df4abbf0677b"
      },
      "outputs": [
        {
          "data": {
            "text/html": [
              "<div>\n",
              "<style scoped>\n",
              "    .dataframe tbody tr th:only-of-type {\n",
              "        vertical-align: middle;\n",
              "    }\n",
              "\n",
              "    .dataframe tbody tr th {\n",
              "        vertical-align: top;\n",
              "    }\n",
              "\n",
              "    .dataframe thead th {\n",
              "        text-align: right;\n",
              "    }\n",
              "</style>\n",
              "<table border=\"1\" class=\"dataframe\">\n",
              "  <thead>\n",
              "    <tr style=\"text-align: right;\">\n",
              "      <th></th>\n",
              "      <th>Date</th>\n",
              "      <th>Price</th>\n",
              "      <th>GRU_prediction</th>\n",
              "      <th>RMSE</th>\n",
              "    </tr>\n",
              "  </thead>\n",
              "  <tbody>\n",
              "    <tr>\n",
              "      <th>count</th>\n",
              "      <td>1517</td>\n",
              "      <td>1517.000000</td>\n",
              "      <td>1517.000000</td>\n",
              "      <td>51.000000</td>\n",
              "    </tr>\n",
              "    <tr>\n",
              "      <th>mean</th>\n",
              "      <td>2021-01-03 16:17:43.150956032</td>\n",
              "      <td>71.357186</td>\n",
              "      <td>71.297546</td>\n",
              "      <td>0.049418</td>\n",
              "    </tr>\n",
              "    <tr>\n",
              "      <th>min</th>\n",
              "      <td>2018-01-04 00:00:00</td>\n",
              "      <td>51.450000</td>\n",
              "      <td>51.814873</td>\n",
              "      <td>0.039616</td>\n",
              "    </tr>\n",
              "    <tr>\n",
              "      <th>25%</th>\n",
              "      <td>2019-07-05 00:00:00</td>\n",
              "      <td>63.762800</td>\n",
              "      <td>63.413219</td>\n",
              "      <td>0.040323</td>\n",
              "    </tr>\n",
              "    <tr>\n",
              "      <th>50%</th>\n",
              "      <td>2021-01-08 00:00:00</td>\n",
              "      <td>70.492800</td>\n",
              "      <td>69.994080</td>\n",
              "      <td>0.042813</td>\n",
              "    </tr>\n",
              "    <tr>\n",
              "      <th>75%</th>\n",
              "      <td>2022-07-07 00:00:00</td>\n",
              "      <td>75.445000</td>\n",
              "      <td>75.122375</td>\n",
              "      <td>0.048460</td>\n",
              "    </tr>\n",
              "    <tr>\n",
              "      <th>max</th>\n",
              "      <td>2023-12-29 00:00:00</td>\n",
              "      <td>143.000000</td>\n",
              "      <td>153.686371</td>\n",
              "      <td>0.151657</td>\n",
              "    </tr>\n",
              "    <tr>\n",
              "      <th>std</th>\n",
              "      <td>NaN</td>\n",
              "      <td>10.570829</td>\n",
              "      <td>11.243888</td>\n",
              "      <td>0.021874</td>\n",
              "    </tr>\n",
              "  </tbody>\n",
              "</table>\n",
              "</div>"
            ],
            "text/plain": [
              "                                Date        Price  GRU_prediction       RMSE\n",
              "count                           1517  1517.000000     1517.000000  51.000000\n",
              "mean   2021-01-03 16:17:43.150956032    71.357186       71.297546   0.049418\n",
              "min              2018-01-04 00:00:00    51.450000       51.814873   0.039616\n",
              "25%              2019-07-05 00:00:00    63.762800       63.413219   0.040323\n",
              "50%              2021-01-08 00:00:00    70.492800       69.994080   0.042813\n",
              "75%              2022-07-07 00:00:00    75.445000       75.122375   0.048460\n",
              "max              2023-12-29 00:00:00   143.000000      153.686371   0.151657\n",
              "std                              NaN    10.570829       11.243888   0.021874"
            ]
          },
          "execution_count": 29,
          "metadata": {},
          "output_type": "execute_result"
        }
      ],
      "source": [
        "dfinal.describe()"
      ]
    },
    {
      "cell_type": "code",
      "execution_count": 30,
      "metadata": {
        "colab": {
          "base_uri": "https://localhost:8080/"
        },
        "id": "7pJlKy5_AIZR",
        "outputId": "4b7e45ca-20dc-4546-acc7-85f6a09d7639"
      },
      "outputs": [
        {
          "name": "stderr",
          "output_type": "stream",
          "text": [
            "WARNING:absl:Compiled the loaded model, but the compiled metrics have yet to be built. `model.compile_metrics` will be empty until you train or evaluate the model.\n",
            "c:\\Users\\Admin\\AppData\\Local\\Programs\\Python\\Python311\\Lib\\site-packages\\sklearn\\base.py:493: UserWarning: X does not have valid feature names, but StandardScaler was fitted with feature names\n",
            "  warnings.warn(\n"
          ]
        },
        {
          "name": "stdout",
          "output_type": "stream",
          "text": [
            "\u001b[1m1/1\u001b[0m \u001b[32m━━━━━━━━━━━━━━━━━━━━\u001b[0m\u001b[37m\u001b[0m \u001b[1m0s\u001b[0m 176ms/step\n",
            "Predicted exchange rate: [[96.99796]]\n"
          ]
        }
      ],
      "source": [
        "import numpy as np\n",
        "from tensorflow.keras.models import load_model\n",
        "\n",
        "# Load the pre-trained GRU model\n",
        "#model = load_model('gru.h5')\n",
        "#model = load_model('gru_EUR.h5')\n",
        "model = load_model('gru_RUB.h5')\n",
        "\n",
        "# Define input features and preprocessing\n",
        "def preprocess_input(input_data):\n",
        "    # Perform any necessary preprocessing here (e.g., scaling)\n",
        "    # For simplicity, we'll just return the input as is\n",
        "    input_data = sc.transform(input_data)\n",
        "    return input_data\n",
        "\n",
        "# Function to get user input\n",
        "def get_user_input():\n",
        "    # Collect input features from the user\n",
        "    usd_to_money = float(input(\"Enter USD for exchange rate: \"))\n",
        "\n",
        "    # Add more features as needed\n",
        "    return usd_to_money\n",
        "\n",
        "# Make predictions\n",
        "def predict_exchange_rate(model, input_features):\n",
        "    # Reshape input features to match model input shape\n",
        "    input_features = np.array(input_features).reshape(1, len(input_features))\n",
        "    # Preprocess input\n",
        "    preprocessed_input = preprocess_input(input_features)\n",
        "    # Make prediction\n",
        "    predicted_exchange_rate = model.predict(preprocessed_input)\n",
        "    predicted_exchange_rate = sc.inverse_transform(predicted_exchange_rate)\n",
        "    return predicted_exchange_rate\n",
        "\n",
        "# Display results\n",
        "def display_results(prediction):\n",
        "    print(\"Predicted exchange rate:\", prediction)\n",
        "\n",
        "# Main function\n",
        "def main():\n",
        "    # Get user input\n",
        "    usd_to_money = get_user_input()\n",
        "\n",
        "    # Combine input features\n",
        "    input_features = [usd_to_money]\n",
        "\n",
        "    # Make predictions\n",
        "    predicted_exchange_rate = predict_exchange_rate(model, input_features)\n",
        "\n",
        "    # Display results\n",
        "    display_results(predicted_exchange_rate)\n",
        "\n",
        "if __name__ == \"__main__\":\n",
        "    main()"
      ]
    }
  ],
  "metadata": {
    "colab": {
      "provenance": []
    },
    "kernelspec": {
      "display_name": "Python 3",
      "language": "python",
      "name": "python3"
    },
    "language_info": {
      "codemirror_mode": {
        "name": "ipython",
        "version": 3
      },
      "file_extension": ".py",
      "mimetype": "text/x-python",
      "name": "python",
      "nbconvert_exporter": "python",
      "pygments_lexer": "ipython3",
      "version": "3.11.5"
    }
  },
  "nbformat": 4,
  "nbformat_minor": 0
}
